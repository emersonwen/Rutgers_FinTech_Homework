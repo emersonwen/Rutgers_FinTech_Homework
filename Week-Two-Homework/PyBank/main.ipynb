{
 "cells": [
  {
   "cell_type": "markdown",
   "metadata": {},
   "source": [
    "### The total number of months included in the dataset.\n"
   ]
  },
  {
   "cell_type": "code",
   "execution_count": 53,
   "metadata": {},
   "outputs": [],
   "source": [
    "# Importing pathlib and csv libraries\n",
    "from pathlib import Path   \n",
    "import csv    "
   ]
  },
  {
   "cell_type": "code",
   "execution_count": 54,
   "metadata": {},
   "outputs": [],
   "source": [
    "# Importing the CSV file by setting the local file path  \n",
    "path = Path('Resources\\\\budget_data.csv')\n",
    "\n",
    "# Initialize dictionary \n",
    "# budget_data = {}\n",
    "\n",
    "# Initialize variables\n",
    "months = [] \n",
    "month = ''\n",
    "\n",
    "pnls = []\n",
    "pnl = 0\n",
    "\n",
    "changes = []\n",
    "avg_change = 0\n",
    "\n",
    "# Initialize line_num variable\n",
    "line_num = 0"
   ]
  },
  {
   "cell_type": "code",
   "execution_count": 55,
   "metadata": {},
   "outputs": [
    {
     "name": "stdout",
     "output_type": "stream",
     "text": [
      "Total Months: 86\n"
     ]
    }
   ],
   "source": [
    "# Open the csv file as an object\n",
    "with open(path, \"r\") as data_file:\n",
    "\n",
    "    # print(type(data_file))\n",
    "    # Read the file\n",
    "    csvreader = csv.reader(data_file, delimiter=',')\n",
    "\n",
    "    # Read the header row\n",
    "    header = next(csvreader)\n",
    "    line_num+=1\n",
    "\n",
    "    # Iterate through the rows of the csv file\n",
    "    for row in csvreader:\n",
    "    \n",
    "        # Set month to corresponding column 1\n",
    "        month = row[0]\n",
    "\n",
    "        # Update months list with append\n",
    "        months.append(month)\n",
    "    \n",
    "    num_months = f\"Total Months: {len(months)}\"    \n",
    "\n",
    "    print(num_months)"
   ]
  },
  {
   "cell_type": "markdown",
   "metadata": {},
   "source": [
    "### The net total amount of Profit/Losses over the entire period. "
   ]
  },
  {
   "cell_type": "code",
   "execution_count": 56,
   "metadata": {},
   "outputs": [
    {
     "name": "stdout",
     "output_type": "stream",
     "text": [
      "Total: $38382578\n"
     ]
    }
   ],
   "source": [
    "# Open the csv file as an object\n",
    "with open(path, \"r\") as data_file:\n",
    "\n",
    "    # print(type(data_file))\n",
    "    # Read the file\n",
    "    csvreader = csv.reader(data_file, delimiter=',')\n",
    "\n",
    "    # Read the header row\n",
    "    header = next(csvreader)\n",
    "    line_num+=1\n",
    "\n",
    "    # Iterate through the rows of the csv file\n",
    "    for row in csvreader:\n",
    "    \n",
    "        # Iterating all numbers and adding them together\n",
    "        pnl += int(row[1])\n",
    "    \n",
    "    total_pnl = f\"Total: ${pnl}\"    \n",
    "\n",
    "    print(total_pnl)"
   ]
  },
  {
   "cell_type": "markdown",
   "metadata": {},
   "source": [
    "## The average of the changes in Profit/Losses over the entire period."
   ]
  },
  {
   "cell_type": "code",
   "execution_count": 57,
   "metadata": {},
   "outputs": [],
   "source": [
    "import numpy as np\n",
    "\n",
    "# Initialize init_list\n",
    "init_list = np.array([]) "
   ]
  },
  {
   "cell_type": "code",
   "execution_count": 58,
   "metadata": {},
   "outputs": [
    {
     "name": "stdout",
     "output_type": "stream",
     "text": [
      "[  116771  -662642  -391430   379920   212354   510239  -428211  -821271\n",
      "   693918   416278  -974163   860159 -1115009  1033048    95318  -308093\n",
      "    99052  -521393   605450   231727   -65187  -702716   177975 -1065544\n",
      "  1926159  -917805   898730  -334262  -246499   -64055 -1529236  1497596\n",
      "   304914  -635801   398319  -183161   -37864  -253689   403655    94168\n",
      "   306877   -83000   210462 -2196167  1465222  -956983  1838447  -468003\n",
      "   -64602   206242  -242155  -449079   315198   241099   111540   365942\n",
      "  -219310  -368665   409837   151210  -110244  -341938 -1212159   683246\n",
      "   -70825   335594   417334  -272194  -236462   657432  -211262  -128237\n",
      " -1750387   925441   932089  -311434   267252 -1876758  1733696   198551\n",
      "  -665765   693229  -734926    77242   532869]\n"
     ]
    }
   ],
   "source": [
    "# Open the csv file as an object\n",
    "with open(path, \"r\") as data_file:\n",
    "\n",
    "    # print(type(data_file))\n",
    "    # Read the file\n",
    "    csvreader = csv.reader(data_file, delimiter=',')\n",
    "\n",
    "    # Read the header row\n",
    "    header = next(csvreader)\n",
    "    line_num+=1\n",
    "\n",
    "    # Iterate through the rows of the csv file\n",
    "    for row in csvreader:\n",
    "    \n",
    "        # Set pnl to corresponding column 2\n",
    "        pnl = int(row[1])\n",
    "\n",
    "        # Update months list with append\n",
    "        pnls.append(pnl)\n",
    "\n",
    "    # print(pnls)    \n",
    "    \n",
    "    # Initialize numpy list\n",
    "    init_list = np.array(pnls)\n",
    "    # print(init_list)\n",
    "    \n",
    "    # Calculating difference list\n",
    "    diff_list = np.diff(init_list)\n",
    "    print(diff_list)\n"
   ]
  },
  {
   "cell_type": "markdown",
   "metadata": {},
   "source": [
    "## The greatest increase in profits (date and amount) over the entire period."
   ]
  },
  {
   "cell_type": "code",
   "execution_count": null,
   "metadata": {},
   "outputs": [],
   "source": []
  },
  {
   "cell_type": "markdown",
   "metadata": {},
   "source": [
    "## The greatest decrease in losses (date and amount) over the entire period."
   ]
  },
  {
   "cell_type": "code",
   "execution_count": null,
   "metadata": {},
   "outputs": [],
   "source": []
  }
 ],
 "metadata": {
  "interpreter": {
   "hash": "e08a56bfc998586625869874a372b284b7c7ab80671161e215dec0dc2a21fc35"
  },
  "kernelspec": {
   "display_name": "Python 3.7.11 ('dev')",
   "language": "python",
   "name": "python3"
  },
  "language_info": {
   "codemirror_mode": {
    "name": "ipython",
    "version": 3
   },
   "file_extension": ".py",
   "mimetype": "text/x-python",
   "name": "python",
   "nbconvert_exporter": "python",
   "pygments_lexer": "ipython3",
   "version": "3.7.11"
  },
  "orig_nbformat": 4
 },
 "nbformat": 4,
 "nbformat_minor": 2
}
