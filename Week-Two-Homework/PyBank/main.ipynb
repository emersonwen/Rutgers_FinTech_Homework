{
 "cells": [
  {
   "cell_type": "markdown",
   "metadata": {},
   "source": [
    "### The total number of months included in the dataset.\n"
   ]
  },
  {
   "cell_type": "code",
   "execution_count": 18,
   "metadata": {},
   "outputs": [],
   "source": [
    "# Importing pathlib and csv libraries\n",
    "from pathlib import Path   \n",
    "import csv    "
   ]
  },
  {
   "cell_type": "code",
   "execution_count": 19,
   "metadata": {},
   "outputs": [],
   "source": [
    "# Importing the CSV file by setting the local file path  \n",
    "path = Path('Resources\\\\budget_data.csv')\n",
    "\n",
    "# Initialize dictionary \n",
    "# budget_data = {}\n",
    "\n",
    "# Initialize months and pnl\n",
    "months = [] \n",
    "pnls = []\n",
    "\n",
    "# Initialize line_num variable\n",
    "line_num = 0"
   ]
  },
  {
   "cell_type": "code",
   "execution_count": 21,
   "metadata": {},
   "outputs": [
    {
     "name": "stdout",
     "output_type": "stream",
     "text": [
      "172\n"
     ]
    }
   ],
   "source": [
    "# Open the csv file as an object\n",
    "with open(path, \"r\") as data_file:\n",
    "\n",
    "    # print(type(data_file))\n",
    "    # Read the file\n",
    "    csvreader = csv.reader(data_file, delimiter=',')\n",
    "\n",
    "    # Read the header row\n",
    "    header = next(csvreader)\n",
    "    line_num += 1\n",
    "\n",
    "    # Iterate through the rows of the csv file\n",
    "    for row in csvreader:\n",
    "    \n",
    "        # Set variables to their corresponding columns\n",
    "        month = row[0]\n",
    "        pnl = int(row[1])\n",
    "\n",
    "        # Create a list of dates\n",
    "        months.append(month)\n",
    "        # break\n",
    "    num_months = len(months)    \n",
    "    print(num_months)\n",
    "    # Print the number of months (rows) in the dataset\n",
    "    # print(\"Total Months: \", (csvreader))"
   ]
  },
  {
   "cell_type": "markdown",
   "metadata": {},
   "source": [
    "## The net total amount of Profit/Losses over the entire period. "
   ]
  },
  {
   "cell_type": "code",
   "execution_count": null,
   "metadata": {},
   "outputs": [],
   "source": [
    "# From the CSV, I need just the PL numbers\n",
    "\n",
    "# Add up all the PL numbers\n",
    "\n",
    "# Print the result"
   ]
  },
  {
   "cell_type": "markdown",
   "metadata": {},
   "source": [
    "## The average of the changes in Profit/Losses over the entire period."
   ]
  },
  {
   "cell_type": "code",
   "execution_count": null,
   "metadata": {},
   "outputs": [],
   "source": []
  },
  {
   "cell_type": "markdown",
   "metadata": {},
   "source": [
    "## The greatest increase in profits (date and amount) over the entire period."
   ]
  },
  {
   "cell_type": "code",
   "execution_count": null,
   "metadata": {},
   "outputs": [],
   "source": []
  },
  {
   "cell_type": "markdown",
   "metadata": {},
   "source": [
    "## The greatest decrease in losses (date and amount) over the entire period."
   ]
  },
  {
   "cell_type": "code",
   "execution_count": null,
   "metadata": {},
   "outputs": [],
   "source": []
  }
 ],
 "metadata": {
  "interpreter": {
   "hash": "e08a56bfc998586625869874a372b284b7c7ab80671161e215dec0dc2a21fc35"
  },
  "kernelspec": {
   "display_name": "Python 3.7.11 ('dev')",
   "language": "python",
   "name": "python3"
  },
  "language_info": {
   "codemirror_mode": {
    "name": "ipython",
    "version": 3
   },
   "file_extension": ".py",
   "mimetype": "text/x-python",
   "name": "python",
   "nbconvert_exporter": "python",
   "pygments_lexer": "ipython3",
   "version": "3.7.11"
  },
  "orig_nbformat": 4
 },
 "nbformat": 4,
 "nbformat_minor": 2
}
